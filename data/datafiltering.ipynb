{
 "cells": [
  {
   "cell_type": "code",
   "execution_count": 1,
   "id": "e529dada",
   "metadata": {},
   "outputs": [],
   "source": [
    "import os,sys\n",
    "import cv2\n",
    "import numpy as np\n",
    "from tqdm import tqdm\n",
    "import matplotlib.pyplot as plt"
   ]
  },
  {
   "cell_type": "code",
   "execution_count": 2,
   "id": "766ea091",
   "metadata": {},
   "outputs": [],
   "source": [
    "path=\"../Dataset/ssl-dataset\""
   ]
  },
  {
   "cell_type": "code",
   "execution_count": 3,
   "id": "7537557e",
   "metadata": {},
   "outputs": [],
   "source": [
    "count=0"
   ]
  },
  {
   "cell_type": "code",
   "execution_count": 4,
   "id": "6ba179bf",
   "metadata": {},
   "outputs": [
    {
     "name": "stderr",
     "output_type": "stream",
     "text": [
      "100%|██████████| 353881/353881 [1:05:01<00:00, 90.72it/s] \n"
     ]
    }
   ],
   "source": [
    "for fl in tqdm(os.listdir(path)):\n",
    "    p=os.path.join(path,fl)\n",
    "    img=cv2.imread(p)\n",
    "    h,w,_=img.shape\n",
    "    if h<128 or w<128:\n",
    "        #plt.imshow(img)\n",
    "        if 2*h>=128 and 2*w>=128:\n",
    "            img=cv2.resize(img,(2*w,2*h))\n",
    "        elif 3*h>=128 and 3*w>=128:\n",
    "            img=cv2.resize(img,(3*w,3*h))\n",
    "        elif 4*h>=128 and 4*w>=128:\n",
    "            img=cv2.resize(img,(4*w,4*h))\n",
    "        else:\n",
    "            count+=1\n",
    "            os.remove(p)\n",
    "            continue\n",
    "        cv2.imwrite(p,img)\n",
    "        #plt.figure(2)\n",
    "        #plt.imshow(img)\n",
    "        #break\n",
    "    img=cv2.resize(img,(128,128))\n",
    "    cv2.imwrite(p,img)"
   ]
  },
  {
   "cell_type": "code",
   "execution_count": 6,
   "id": "1bdf8180",
   "metadata": {},
   "outputs": [
    {
     "data": {
      "text/plain": [
       "0"
      ]
     },
     "execution_count": 6,
     "metadata": {},
     "output_type": "execute_result"
    }
   ],
   "source": [
    "count"
   ]
  },
  {
   "cell_type": "code",
   "execution_count": null,
   "id": "ab0c5c9e",
   "metadata": {},
   "outputs": [],
   "source": []
  }
 ],
 "metadata": {
  "kernelspec": {
   "display_name": "Python 3.9.13 ('pytorch_p39')",
   "language": "python",
   "name": "python3"
  },
  "language_info": {
   "codemirror_mode": {
    "name": "ipython",
    "version": 3
   },
   "file_extension": ".py",
   "mimetype": "text/x-python",
   "name": "python",
   "nbconvert_exporter": "python",
   "pygments_lexer": "ipython3",
   "version": "3.9.13"
  },
  "vscode": {
   "interpreter": {
    "hash": "1f4a227f2552de404565d6626d9115986c409361ad6ef0bf195ad88ccd012b73"
   }
  }
 },
 "nbformat": 4,
 "nbformat_minor": 5
}
